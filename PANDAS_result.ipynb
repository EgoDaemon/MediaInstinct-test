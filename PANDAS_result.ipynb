{
 "cells": [
  {
   "cell_type": "code",
   "execution_count": 1,
   "metadata": {
    "scrolled": true
   },
   "outputs": [
    {
     "name": "stdout",
     "output_type": "stream",
     "text": [
      "<class 'pandas.core.frame.DataFrame'>\n",
      "RangeIndex: 3844 entries, 0 to 3843\n",
      "Data columns (total 9 columns):\n",
      "group_id               3844 non-null int64\n",
      "member_id              3844 non-null int64\n",
      "start_datetime         3844 non-null object\n",
      "calendar_start_date    3844 non-null datetime64[ns]\n",
      "weight                 3844 non-null float64\n",
      "end_datetime           3844 non-null object\n",
      "calendar_end_date      3844 non-null datetime64[ns]\n",
      "location_id            3844 non-null int64\n",
      "time                   3844 non-null int64\n",
      "dtypes: datetime64[ns](2), float64(1), int64(4), object(2)\n",
      "memory usage: 270.4+ KB\n"
     ]
    }
   ],
   "source": [
    "import pandas as pd\n",
    "day_1 = pd.read_excel('datas\\day1.xlsx')\n",
    "day_1.head()\n",
    "day_1.info()"
   ]
  },
  {
   "cell_type": "code",
   "execution_count": 2,
   "metadata": {},
   "outputs": [
    {
     "data": {
      "text/plain": [
       "4479.55"
      ]
     },
     "execution_count": 2,
     "metadata": {},
     "output_type": "execute_result"
    }
   ],
   "source": [
    "day_1['weight'].sum().round(2)"
   ]
  },
  {
   "cell_type": "code",
   "execution_count": 3,
   "metadata": {},
   "outputs": [
    {
     "name": "stdout",
     "output_type": "stream",
     "text": [
      "[65707, 64906, 40706, 54653, 33577, 58951, 64713, 40858, 64517, 40928, 58556, 58909, 58953, 29814, 56964, 63162, 46513, 63052, 65484, 68653, 64367, 64335, 65958, 66252, 65093, 66469, 52044, 43526, 62310, 52920, 61718, 48716, 63900, 65114, 45873, 54091, 54775, 31266, 31267, 35164, 67872, 35448, 68370, 62882, 62382, 58970, 58971, 60209, 31107, 61431, 62368, 62053, 68470, 57549, 26235, 65881, 54936, 41177, 64227, 36251, 64795, 58844, 66511, 66775, 50209, 62097, 40274, 32999, 32998, 61014, 59691, 66806, 67914, 66974, 31135, 66281, 35334, 56615, 57233, 64763, 48180, 44270, 64881, 66084, 57625, 59792, 59936, 57079, 66808, 61951, 66805, 51563, 29909, 66807, 66694, 31393, 65420, 65007, 65859, 66193, 62221, 63469, 65419, 63513, 63514, 68906, 57097, 57095, 58050, 58679, 58732, 58730, 62478, 56968, 56786, 63014, 28472, 56807, 58731, 56797, 56798, 40493, 61454, 63464, 61029, 63069, 43304, 59104, 63602, 63051, 62951, 63710, 60873, 63471, 64079, 48114, 65283, 36884, 65284, 64873, 66814, 47016, 31589, 63968, 64444, 65483, 66738, 33262, 66741, 59261, 55394, 57852, 58913, 36680, 67683, 62279, 62308, 41780, 66377, 34728, 35000, 64899, 41503, 57213, 54022, 45148, 30460, 57754, 38345, 35360, 58696, 56166, 35536, 54777, 53491, 53676, 36085, 67026, 67458, 37279, 48025, 68032, 27288, 54554, 28925, 61649, 62252, 27771, 60525, 63582, 61912, 66657, 66656, 44874, 42568, 60704, 57712, 56951, 46519, 66698, 38895, 54186, 62584, 52805, 64980, 51818, 68276, 65009, 48312, 66194, 66122, 46072, 51517, 63703, 58280, 57772, 40835, 57879, 58804, 44313, 63988, 65008, 44846, 44875, 40184, 63989, 65761, 60678, 65762, 60775, 58805, 68275, 44242, 68637, 30119, 68392, 68638, 64986, 52897, 64069, 64293, 63016, 52896, 67146, 68942, 54312, 64815, 34293, 65193, 59076, 63037, 55741, 64985, 38321, 68680, 68802, 44948, 52468, 68727, 66460, 55172, 66463, 68731, 57814, 60036, 56576, 68726, 58910, 54116, 62124, 63971, 64832, 48763, 53146, 58460, 60495, 63521, 40816, 65104, 61059, 35035, 65238, 63806, 63932, 68385, 57758, 65347, 65353, 45961, 68424, 67088, 67087, 61030, 50171, 52867, 67471, 46234, 57331, 46021, 62313, 64981, 62020, 51819, 44261, 52532, 24118, 48266, 62874, 42460, 32020, 64319, 64318, 48498, 30426, 60402, 68577, 63384, 59905, 54386, 61702, 56209, 54838, 68227, 60440, 53744, 53365, 55967, 53527, 55966, 60602, 68214, 45975, 64793, 68521, 47193, 61004, 60437, 64634, 42524, 54498, 53898, 64089, 57222, 46876, 62446, 63155, 62447, 63154, 52524, 48206, 54837, 66792, 55344, 56189, 46552, 31119, 46440, 55693, 55916, 56668, 55833, 61999, 62050, 62165, 57110, 63849, 68034, 46690, 31499, 68679, 33582, 54820, 69047, 54836, 44267, 46160, 66186, 61839, 58161, 57247, 26399, 63121, 32318, 37816, 36719, 34186, 32597, 34185, 51391, 35624, 52911, 65518, 34158, 35372, 66457, 52072, 66291, 33809, 28355, 28211, 27958, 62543, 58403, 63125, 36829, 65351, 61099, 48358, 58389, 53113, 65044, 48453, 60360, 58390, 52937, 53114, 65023, 67690, 29370, 53267, 48357, 60147, 34964, 58562, 67094, 40387, 32782, 61725, 26840, 58385, 68367, 47518, 68374, 44075, 61888, 58852, 52527, 56006, 41183, 37582, 48126, 66643, 68556, 56330, 48125, 42180, 59453, 37825, 27075, 54922, 60580, 45737, 26363, 36848, 35160, 34163, 56509, 58331, 52028, 67804, 65453, 62369, 57680, 65452, 40217, 52493, 64180, 43693, 51332, 65889, 57809, 65302, 65301, 64401, 59712, 60832, 63600, 59508, 66897, 66859, 59388, 40860, 62150, 40859, 56629, 58302, 56959, 57985, 68570, 56610, 58632, 41601, 44382, 62565, 56697, 46592, 64244, 66155, 43436, 46504, 31539, 65042, 62715, 64216, 64978, 65081, 47496, 33383, 61100, 54508, 57392, 25551, 31538, 34126, 45042, 62718, 66259, 57286, 64294, 61111, 47495, 66982, 61101, 63580, 62901, 66456, 53655, 57524, 53656, 57525, 55591, 64667, 58683, 57448, 63466, 52553, 44011, 44505, 44506, 58439, 35168, 61161, 35169, 63258, 58440, 54754, 30249, 55206, 32443, 36481, 58914, 48279, 62292, 38922, 54348, 57447, 45837, 58094, 33648, 45352, 57604, 44226, 42357, 65320, 38683, 56285, 38607, 61193, 65408, 62540, 62539, 65943, 68005, 62045, 66225, 51442, 26436, 40577, 37109, 64277, 63112, 36562, 67786, 60059, 35960, 46567, 42465, 64145, 66317, 34574, 60972, 48675, 38510, 47835, 26091, 59525, 57770, 47908, 33244, 34373, 60582, 50180, 51930, 50179, 60979, 59425, 30208, 53477, 53153, 66405, 58239, 64055, 46495, 53264, 57930, 64900, 34060, 57559, 44535, 41415, 64224, 48283, 57265, 47008, 31736, 31737, 67400, 31823, 64376, 43993, 64670, 40746, 65236, 47966, 38665, 62803, 46732, 58688, 27732, 22442, 44320, 66482, 66067, 20032, 66142, 30327, 58793, 66226, 66230, 36101, 35342, 35216, 36333, 27536, 27535, 57635, 38664, 66776, 38601, 27217, 65713, 57108, 36100, 65822, 66508, 66483, 65890, 61785, 20557, 66028, 65821, 64006, 60673, 62377, 62198, 59246, 62293, 62309, 62320, 62349, 57252, 25157, 57235, 62511, 62589, 56795, 66740, 66506, 42156, 45923, 62188, 44807, 61884, 48345, 57486, 56536, 47257, 56975, 61164, 60444, 42472, 45836, 43639, 61260, 45648, 58055, 61261, 68038, 68477, 65350, 61639, 68673, 46883, 64312, 63614, 63717, 63373, 46637, 57440, 63741, 63936, 57749, 57750, 55332, 44066, 64558, 33164, 64563, 58256, 64941, 59961, 68179, 63126, 68182, 32641, 57195, 52579, 37030, 63857, 47826, 29989, 44072, 53344, 35890, 50127, 61979, 44983, 58631, 44777, 57792, 37031, 52933, 57418, 33274, 57365, 47640, 45071, 57439, 58500, 58501, 58502, 58503, 57404, 51127, 59822, 60037, 66734, 64910, 59024, 68669, 36295, 69013, 65550, 66392, 69017, 64743, 66005, 36499, 60195, 60196, 66144, 64168, 60197, 66789, 66828, 48163, 57405, 50708, 62669, 63219, 68443, 41657, 37542, 66827, 29409, 63907, 30425, 59022, 66903, 46584, 63072, 62668, 65112, 55988, 63512, 63519, 65354, 53391, 28790, 65664, 33984, 56618, 65489, 62573, 48417, 62351, 67433, 56642, 42292, 59748, 31074, 65663, 64313, 59909, 46553, 68708, 61112, 68512, 58499, 54703, 65919, 54420, 43498, 63327, 60248, 57983, 43316, 55681, 54702, 66398, 47730, 69088, 47726, 64159, 57388, 53771, 62823, 54555, 23476, 57150, 29688, 26104, 60484, 56589, 47731, 57982, 67504, 67574, 41785, 68162, 57230, 35025, 41786, 66044, 29608, 63380, 63247, 63246, 64810, 67100, 34585, 33859, 40528, 25419, 65064, 37184, 29281, 66258, 64565, 66348, 52080, 53996, 64070, 38215, 66423, 64533, 35516, 36691, 65745, 67025, 55483, 63071, 64534, 69024, 44517, 68984, 57558, 61898, 32689, 62881, 58754, 63137, 52081, 68983, 58090, 60506, 60932, 62375, 56620, 56593, 45205, 63070, 57703, 62230, 58033, 58034, 68569, 32495, 61134, 65053, 26138, 52507, 19511, 65056, 59393, 35742, 24948, 60333, 33804, 34914, 41737, 47683, 43409, 37967, 45700, 40808, 33777, 42490, 68737, 63616, 63705, 48263, 24144, 66732, 25496, 53212, 68565, 61816, 24145, 68738, 64556, 63992, 64785, 57304, 64555, 55422, 57263, 55419, 54434, 61998, 53289, 57260, 37352, 67870, 58124, 55424, 48728, 48720, 25711, 64527, 48679, 61679, 64958, 40272, 61720, 64853, 48769, 61278, 62008, 53906, 67777, 67644, 67643, 21727, 40717, 58975, 57273, 58444, 43321, 56904, 62009, 57861, 58972, 57473, 38528, 57472, 36687, 64100, 64101, 65653, 40650, 68125, 62941, 68992, 31908, 53342, 50435, 58465, 61772, 31907, 68168, 58375, 62942, 51128, 68991, 68986, 41023, 67933, 67932, 67929, 51519, 60929, 62291, 58654, 47700, 63762, 42299, 62314, 63358, 58593, 26629, 58174, 26617, 66722, 66720, 34418, 44917, 63307, 32098, 59038, 66356, 43454, 68787, 42821, 42347, 57421, 62480, 62755, 60057, 57899, 62891, 62912, 57112, 56716, 57715, 57714, 57057, 38480, 62190, 62270, 62319, 48752, 57239, 60731, 48188, 57458, 56548, 62853, 62890, 56549, 57360, 63467, 58859, 57611, 57598, 58304, 58137, 58138, 48454, 58987, 58880, 58798, 60133, 60535, 60600, 60705, 62271, 62272, 57522, 30523, 64160, 66092, 66204, 66510, 58260, 66938, 67165, 52074, 59001, 59054, 59086, 60098, 51020, 65631, 64219, 64307, 38148, 64858, 54720, 58949, 58950, 65016, 65041, 58986, 56819, 32640, 65150, 27848, 53559, 40356, 55838, 40576, 37524, 37525, 51334, 35267, 25721, 66502, 37697, 37613, 27652, 65968, 65860, 55384, 68818, 51765, 31200, 64736, 42711, 68016, 68316, 64419, 67978, 68660, 64759, 52580, 41138, 64306, 37086, 44482, 68756, 68755, 53630, 44345, 37826, 52583, 67873, 67520, 63057, 67099, 60470, 62889, 28070, 50695, 46977, 46978, 63134, 38602, 67899, 61252, 40842, 25458, 25459, 53393, 52636, 64190, 41709, 62875, 64188, 64189, 51694, 32499, 51693, 67562, 56619, 63221, 67648, 58896, 59253, 52389, 68905, 58433, 57832, 64938, 62706, 66544, 30931, 54919, 55944, 57271, 57641, 62705, 55935, 40284, 64171, 64812, 40889, 68644, 68645, 48222, 61338, 61337, 45397, 46253, 59252, 68676, 68323, 57227, 64643, 62975, 51172, 58192, 63195, 50920, 64721, 63423, 56440, 58745, 64714, 58483, 64692, 63456, 36694, 66543, 48149, 67142, 64195, 38051, 48742, 45137, 38026, 37433, 66357, 45138, 67530, 67531, 32561, 67545, 66286, 60474, 56611, 58759, 54873, 59637, 57764, 32255, 54935, 37784, 37783, 37782, 57026, 29890, 67625, 67633, 52760, 61120, 34725, 26387, 33447, 65852, 58162, 42704, 65853, 57270, 65569, 42809, 56827, 54241, 29935, 43303, 47079, 66285, 32012, 61121, 36828, 59812, 36996, 42487, 54169, 35954, 60867, 50989, 28929, 67038, 41736, 45715, 46457, 63318, 63319, 63443, 61225, 51568, 46317, 56996, 58043, 57287, 20077, 61723, 48034, 61332, 36626, 26006, 65807, 33305, 48449, 26068, 66830, 45688, 33304, 56749, 48667, 37876, 54360, 62452, 37074, 64723, 45862, 62118, 67820, 47336, 67827, 40805, 40996, 63355, 67748, 52889, 41270, 48722, 44868, 52616, 60701, 36223, 57047, 67943, 47219, 57960, 32015, 48313, 53895, 61793, 69090, 61774, 57059, 37121, 60766, 52901, 65756, 68833, 38219, 52615, 53038, 32803, 63139, 60095, 56888, 68462, 68552, 52972, 66856, 68605, 56887, 58669, 68834, 60264, 44604, 37875, 35034, 58711, 62157, 60585, 41231, 33791, 48120, 58660, 60431, 62362, 60266, 60265, 68920, 48724, 68026, 65927, 64207, 48546, 48527, 47898, 40908, 62862, 58108, 59699, 60936, 51560, 63140, 47843, 65260, 63930, 60324, 65728, 63518, 63520, 64206, 54118, 53217, 62357, 68187, 48512, 54656, 62418, 67482, 67481, 65029, 56283, 64882, 36354, 46430, 54425, 57638, 44050, 45800, 65598, 41870, 41869, 25539, 69014, 43447, 65300, 66487, 69018, 68839, 60974, 55330, 53195, 57544, 43632, 52990, 66104, 66231, 63198, 66347, 38163, 66701, 66883, 67098, 37526, 67809, 66069, 65970, 65677, 57187, 64510, 55923, 64217, 57777, 65373, 63790, 55522, 65532, 45204, 65303, 61894, 34951, 31213, 29807, 30671, 44087, 56886, 66902, 51024, 61881, 61880, 69007, 61598, 61591, 25761, 32239, 32625, 46594, 38831, 57542, 57543, 56510, 33927, 33941, 62254, 44002, 57864, 58595, 62041, 61952, 61942, 62804, 62992, 62856, 63027, 58041, 58810, 31214, 50557, 38830, 68891, 58035, 68134, 44713, 62077, 62187, 64483, 52039, 57370, 64959, 64952, 40625, 28548, 36992, 26266, 52038, 53237, 32134, 58036, 35118, 62621, 46413, 46414, 52748, 62123, 68670, 68627, 52715, 42930, 40273, 32908, 55312, 35871, 48698, 62897, 66777, 57044, 55313, 64606, 52159, 28529, 28530, 51991, 32446, 47823, 67245, 46376, 61382, 21424, 46556, 46555, 59502, 54273, 48478, 48371, 62470, 58902, 65062, 22449, 65063, 57579, 42761, 68180, 53610, 57649, 31858, 58903, 41281, 61384, 67766, 61383, 47884, 21423, 44165, 61778, 61780, 51667, 46378, 64918, 47946, 44058, 44059, 41279, 64976, 60574, 56997, 38747, 66774, 63065, 25682, 67988, 63238, 32889, 60423, 55151, 38220, 55149, 66433, 62863, 61427, 32035, 66246, 61673, 61674, 62149, 41800, 61676, 54748, 62782, 33384, 30580, 30578, 66277, 37009, 37010, 45487, 62612, 58598, 33386, 68106, 58213, 68562, 34122, 40942, 68665, 46467, 65185, 68350, 41026, 36054, 68589, 58212, 36525, 58749, 56385, 57701, 68550, 64308, 56799, 36055, 59507, 47790, 29967, 54272, 28152, 57727, 62341, 62421, 28154, 54257, 57726, 57790, 46172, 36399, 58775, 41817, 36545, 53993, 53945, 36400, 64404, 37138, 41650, 41620, 48228, 41083, 64255, 28049, 36293, 55820, 65599, 46618, 65609, 27451, 56687, 26576, 35028, 54828, 38015, 26577, 38017, 61536, 41587, 38231, 66057, 46173, 63534, 65858, 58833, 48506, 60960, 60443, 63949, 37710, 43100, 37511, 37510, 30503, 54493, 56470, 65572, 48403, 47423, 51450, 47463, 56796, 35966, 62811, 65352, 41844, 60326, 38016, 52813, 25997, 57731, 43552, 35720, 30177, 38457, 32651, 62311, 60477, 60479, 35362, 41550, 60703, 60679, 60478, 25998, 43332, 60489, 60480, 56688, 31822, 68970, 68299, 68300, 57073, 68345, 68346, 54000, 68298, 43551, 40090, 29852, 52814, 56391, 44964, 52955, 59728, 25065, 59422, 29937, 51822, 69084, 52860, 61876, 42567, 53930, 56086, 67760, 57374, 32418, 56884, 56883, 53811, 34810, 47883, 53812, 61656, 47054, 61597, 68719, 66420, 56882, 61840, 61923, 61926, 68794, 52495, 53931, 32583, 44381, 60959, 44070, 29121, 57658, 43702, 46706, 29750, 62239, 66282, 46059, 62331, 37786, 44279, 59067, 55884, 37787, 42686, 34036, 61064, 53985, 65220, 40701, 20508, 20509, 26678, 59696, 61990, 57122, 26679, 47037, 52523, 56935, 48563, 61983, 58611, 58613, 64904, 58612, 48567, 62350, 47212, 62840, 64361, 62839, 66131, 47214, 47211, 64362, 43963, 53288, 60800, 58173, 47905, 60887, 46005, 37418, 64493, 62760, 62759, 46159, 57799, 54359, 48412, 66294, 59560, 44182, 61276, 58382, 36134, 44183, 51516, 48124, 46003, 38256, 40875, 53388, 52826, 27781, 61955, 43391, 60182, 60793, 67450, 67864, 67879, 62183, 61973, 27782, 53232, 56955, 58056, 66446, 53231, 59066, 65264, 50729, 36240, 44132, 44074, 44134, 68334, 68335, 32501, 35876, 55457, 67606, 19242, 55099, 54596, 55098, 55097, 55500, 33120, 37959, 29410, 46221, 61354, 42019, 41423, 41918, 58272, 41426, 41424, 60689, 63282, 63281, 53572, 65110, 59458, 50300, 60649, 57577, 64443, 46730, 33771, 33956, 35026, 33101, 33955, 47655, 32584, 62562, 58659, 28525, 62563, 47881, 64931, 62939, 55645, 62490, 41597, 26275, 26274, 46593, 47323, 41600, 31821, 66980, 48273, 53180, 56543, 57267, 63160, 63159, 66742, 66676, 63207, 62902, 63042, 28343, 53164, 37872, 30124, 27242, 27241, 26707, 62637, 63028, 61752, 57014, 68185, 59013, 44803, 54724, 68571, 68575, 44494, 59721, 59767, 59770, 42941, 53179, 60507, 34979, 57025, 60569, 43741, 68629, 43274, 64609, 43235, 60078, 27243, 45021, 56578, 43742, 54256, 47681, 68663, 57875, 57876, 41496, 47824, 57877, 60990, 67808, 67781, 57878, 25890, 62613, 69092, 65310, 45612, 61753, 61769, 53944, 62098, 52765, 41598, 37149, 37150, 62222, 65922, 45611, 52187, 40829, 56476, 65219, 65758, 37865, 48274, 56805, 65174, 22445, 58693, 40768, 58802, 58086, 60075, 46478, 29677, 50174, 44421, 63818, 62513, 55667, 38645, 63667, 65252, 59559, 63892, 63893, 63704, 40016, 62514, 65232, 65231, 62515, 58372, 40015, 46232, 41075, 63348, 64608, 64671, 34977, 40830, 64229, 58591, 40831, 58054, 46201, 58800, 41076, 66136, 40828, 19062, 58682, 65891, 63490, 29089, 58085, 40277, 56390, 38597, 64930, 29082, 29080, 58393, 58392, 31340, 25590, 32328, 48599, 63076, 57197, 58317, 48600, 68685, 42362, 46557, 67937, 44357, 56809, 54161, 44524, 56546, 57778, 56547, 53233, 67170, 67171, 33919, 34862, 33920, 54697, 33966, 65634, 28137, 47560, 65140, 66731, 60221, 67715, 67703, 20769, 46435, 31369, 50267, 64948, 46436, 48177, 66719, 55046, 40710, 48691, 47673, 47559, 32724, 54162, 47558, 31968, 40711, 22468, 57860, 22466, 36375, 36374, 32361, 46968, 33115, 44958, 60007, 59514, 59010, 52902, 36396, 68110, 44957, 58707, 60310, 47534, 68206, 60077, 68259, 68531, 48131, 26667, 26666, 26665, 54916, 51730, 32216, 51731, 32105, 29343, 29105, 57933, 51331, 33655, 63420, 34228, 34229, 28248, 51520, 51521, 58288, 52528, 67516, 57207, 31474, 31496, 68579, 58794, 58857, 68544, 68773, 68775, 48634, 52153, 68957, 52403, 56778, 68822, 58637, 47728, 53213, 64627, 37919, 47059, 61284, 61368, 62406, 66566, 57836, 45592, 53032, 54243, 37364, 57164, 66568, 46152, 61283, 42498, 38921, 38412, 65409, 67075, 36811, 66690, 61273, 66689, 56728, 61269, 66691, 46002, 37170, 62280, 57642, 63167, 37171, 62278, 54123, 41656, 63448, 55222, 65809, 55272, 23361, 46134, 37105, 46119, 20662, 37106, 54124, 61419, 41763, 38361, 40641, 45187, 64343, 43028, 37538, 66940, 64889, 64890, 64316, 35238, 46838, 67021, 64792, 60559, 54659, 60289, 60560, 62547, 45265, 60609, 60616, 37615, 62549, 64782, 43301, 64208, 64315, 46858, 46839, 45835, 67289, 37539, 40425, 55765, 57069, 46722, 62617, 37917, 55738, 64035, 65117, 67200, 67153, 63987, 40296, 45372, 63986, 46475, 67045, 45846, 62836, 54796, 48591, 69028, 69027, 67877, 56842, 37399, 61476, 56098, 53856, 56567, 43532, 51808, 55524, 67439, 56452, 55525, 31092, 66140, 43489, 47394, 68042, 68040, 41418, 31006, 64954, 31004, 50426, 45149, 65672, 65671, 33127, 33128, 58717, 60434, 26459, 34213, 56102, 57636, 66773, 50486, 34199, 55428, 58413, 45556, 63825, 51540, 54950, 37795, 46749, 64030, 34787, 44153, 34101, 61130, 63688, 22579, 35731, 52267, 41847, 54126, 45332, 52679, 68113, 52231, 63654, 65517, 57342, 65531, 28993, 28990, 65530, 57338, 44515, 36889, 34546, 68763, 65882, 52708, 68724, 63581, 63098, 65658, 65659, 65840, 41880, 63603, 65710, 57824, 35772, 37545, 63769, 56986, 35691, 35709, 58813, 35751, 61254, 35183, 59910, 56743, 56439, 31036, 53069, 53336, 43465, 47262, 24245, 53769, 63855, 63392, 68257, 53632, 40129, 65210, 65194, 65131, 47574, 63990, 35668, 58787, 45280, 58788, 65079, 68258, 52706, 66599, 38268, 66260, 66261, 26715, 67241, 66593, 58194, 41545, 32175, 47377, 58193, 57855, 37489, 47836, 66468, 37343, 31699, 37365, 28467, 26316, 26315, 67240, 38269, 69077, 62277, 32477, 52234, 66097, 58224, 38474, 54694, 57232, 38270, 63295, 57737, 46880, 53103, 58559, 54559, 57551, 57840, 32636, 54389, 26444, 45650, 40770, 57844, 64943, 59827, 62677, 40593, 26839, 32210, 42865, 59680, 58743, 59678, 36222, 43982, 57839, 53043, 56995, 63381, 33181, 63730, 63690, 61787, 63685, 53955, 58301, 38244, 48705, 29938, 53956, 29590, 61996, 63326, 52513, 65996, 63841, 62407, 56448, 61228, 65491, 65506, 41537, 61435, 65329, 67003, 28210, 62825, 55737, 29107, 53451, 55777, 58436]\n"
     ]
    }
   ],
   "source": [
    "source = day_1['member_id'].unique()\n",
    "source\n",
    "list_source = []\n",
    "for q in source:\n",
    "    list_source.append(q)\n",
    "print(list_source)"
   ]
  },
  {
   "cell_type": "code",
   "execution_count": 4,
   "metadata": {},
   "outputs": [
    {
     "name": "stdout",
     "output_type": "stream",
     "text": [
      "<class 'pandas.core.frame.DataFrame'>\n",
      "RangeIndex: 4841 entries, 0 to 4840\n",
      "Data columns (total 9 columns):\n",
      "group_id               4841 non-null int64\n",
      "member_id              4841 non-null int64\n",
      "start_datetime         4841 non-null object\n",
      "calendar_start_date    4841 non-null datetime64[ns]\n",
      "weight                 4841 non-null float64\n",
      "end_datetime           4841 non-null object\n",
      "calendar_end_date      4841 non-null datetime64[ns]\n",
      "location_id            4841 non-null int64\n",
      "time                   4841 non-null int64\n",
      "dtypes: datetime64[ns](2), float64(1), int64(4), object(2)\n",
      "memory usage: 340.5+ KB\n"
     ]
    }
   ],
   "source": [
    "day_2 = pd.read_excel('datas\\day2.xlsx')\n",
    "day_2.head()\n",
    "day_2.info()"
   ]
  },
  {
   "cell_type": "code",
   "execution_count": 5,
   "metadata": {},
   "outputs": [
    {
     "data": {
      "text/html": [
       "<div>\n",
       "<style scoped>\n",
       "    .dataframe tbody tr th:only-of-type {\n",
       "        vertical-align: middle;\n",
       "    }\n",
       "\n",
       "    .dataframe tbody tr th {\n",
       "        vertical-align: top;\n",
       "    }\n",
       "\n",
       "    .dataframe thead th {\n",
       "        text-align: right;\n",
       "    }\n",
       "</style>\n",
       "<table border=\"1\" class=\"dataframe\">\n",
       "  <thead>\n",
       "    <tr style=\"text-align: right;\">\n",
       "      <th></th>\n",
       "      <th>group_id</th>\n",
       "      <th>member_id</th>\n",
       "      <th>start_datetime</th>\n",
       "      <th>calendar_start_date</th>\n",
       "      <th>weight</th>\n",
       "      <th>end_datetime</th>\n",
       "      <th>calendar_end_date</th>\n",
       "      <th>location_id</th>\n",
       "      <th>time</th>\n",
       "    </tr>\n",
       "  </thead>\n",
       "  <tbody>\n",
       "    <tr>\n",
       "      <th>0</th>\n",
       "      <td>1</td>\n",
       "      <td>16321</td>\n",
       "      <td>2021-03-02 23:14:05</td>\n",
       "      <td>2021-03-02 23:07:00</td>\n",
       "      <td>0.653093</td>\n",
       "      <td>2021-03-02 23:14:25</td>\n",
       "      <td>2021-03-02 23:35:00</td>\n",
       "      <td>1</td>\n",
       "      <td>20</td>\n",
       "    </tr>\n",
       "    <tr>\n",
       "      <th>1</th>\n",
       "      <td>1</td>\n",
       "      <td>18802</td>\n",
       "      <td>2021-03-02 14:39:10</td>\n",
       "      <td>2021-03-02 14:21:00</td>\n",
       "      <td>1.495599</td>\n",
       "      <td>2021-03-02 14:39:30</td>\n",
       "      <td>2021-03-02 14:40:00</td>\n",
       "      <td>1</td>\n",
       "      <td>20</td>\n",
       "    </tr>\n",
       "    <tr>\n",
       "      <th>2</th>\n",
       "      <td>1</td>\n",
       "      <td>18862</td>\n",
       "      <td>2021-03-02 18:26:01</td>\n",
       "      <td>2021-03-02 17:56:00</td>\n",
       "      <td>0.203072</td>\n",
       "      <td>2021-03-02 18:26:21</td>\n",
       "      <td>2021-03-02 18:37:00</td>\n",
       "      <td>1</td>\n",
       "      <td>20</td>\n",
       "    </tr>\n",
       "    <tr>\n",
       "      <th>3</th>\n",
       "      <td>1</td>\n",
       "      <td>19062</td>\n",
       "      <td>2021-03-01 21:56:22</td>\n",
       "      <td>2021-03-01 21:36:00</td>\n",
       "      <td>0.574552</td>\n",
       "      <td>2021-03-01 21:56:42</td>\n",
       "      <td>2021-03-01 22:27:00</td>\n",
       "      <td>1</td>\n",
       "      <td>20</td>\n",
       "    </tr>\n",
       "    <tr>\n",
       "      <th>4</th>\n",
       "      <td>1</td>\n",
       "      <td>19242</td>\n",
       "      <td>2021-03-01 20:54:23</td>\n",
       "      <td>2021-03-01 19:58:00</td>\n",
       "      <td>0.683945</td>\n",
       "      <td>2021-03-01 20:54:43</td>\n",
       "      <td>2021-03-01 21:05:00</td>\n",
       "      <td>1</td>\n",
       "      <td>20</td>\n",
       "    </tr>\n",
       "  </tbody>\n",
       "</table>\n",
       "</div>"
      ],
      "text/plain": [
       "   group_id  member_id       start_datetime calendar_start_date    weight  \\\n",
       "0         1      16321  2021-03-02 23:14:05 2021-03-02 23:07:00  0.653093   \n",
       "1         1      18802  2021-03-02 14:39:10 2021-03-02 14:21:00  1.495599   \n",
       "2         1      18862  2021-03-02 18:26:01 2021-03-02 17:56:00  0.203072   \n",
       "3         1      19062  2021-03-01 21:56:22 2021-03-01 21:36:00  0.574552   \n",
       "4         1      19242  2021-03-01 20:54:23 2021-03-01 19:58:00  0.683945   \n",
       "\n",
       "          end_datetime   calendar_end_date  location_id  time  \n",
       "0  2021-03-02 23:14:25 2021-03-02 23:35:00            1    20  \n",
       "1  2021-03-02 14:39:30 2021-03-02 14:40:00            1    20  \n",
       "2  2021-03-02 18:26:21 2021-03-02 18:37:00            1    20  \n",
       "3  2021-03-01 21:56:42 2021-03-01 22:27:00            1    20  \n",
       "4  2021-03-01 20:54:43 2021-03-01 21:05:00            1    20  "
      ]
     },
     "execution_count": 5,
     "metadata": {},
     "output_type": "execute_result"
    }
   ],
   "source": [
    "result = pd.concat([day_1,day_2]).drop_duplicates('member_id').sort_values('member_id').reset_index(drop=True)\n",
    "result.head(5)"
   ]
  },
  {
   "cell_type": "code",
   "execution_count": 6,
   "metadata": {},
   "outputs": [],
   "source": [
    "result1 = pd.concat([day_1,day_2]).sort_values('member_id').reset_index(drop=True)\n",
    "result1['location_id'] = result1.location_id.apply(lambda x: 'дом' if x == 1 else('дача' if x == 2 \n",
    "                        else('гостиница' if x == 4\n",
    "                        else('гараж' if x == 8 else x))))"
   ]
  },
  {
   "cell_type": "code",
   "execution_count": 7,
   "metadata": {},
   "outputs": [
    {
     "data": {
      "text/html": [
       "<div>\n",
       "<style scoped>\n",
       "    .dataframe tbody tr th:only-of-type {\n",
       "        vertical-align: middle;\n",
       "    }\n",
       "\n",
       "    .dataframe tbody tr th {\n",
       "        vertical-align: top;\n",
       "    }\n",
       "\n",
       "    .dataframe thead th {\n",
       "        text-align: right;\n",
       "    }\n",
       "</style>\n",
       "<table border=\"1\" class=\"dataframe\">\n",
       "  <thead>\n",
       "    <tr style=\"text-align: right;\">\n",
       "      <th></th>\n",
       "      <th>group_id</th>\n",
       "      <th>member_id</th>\n",
       "      <th>start_datetime</th>\n",
       "      <th>calendar_start_date</th>\n",
       "      <th>weight</th>\n",
       "      <th>end_datetime</th>\n",
       "      <th>calendar_end_date</th>\n",
       "      <th>location_id</th>\n",
       "      <th>time</th>\n",
       "    </tr>\n",
       "  </thead>\n",
       "  <tbody>\n",
       "    <tr>\n",
       "      <th>311</th>\n",
       "      <td>1</td>\n",
       "      <td>28903</td>\n",
       "      <td>2021-03-02 17:37:23</td>\n",
       "      <td>2021-03-02 17:30:00</td>\n",
       "      <td>0.711889</td>\n",
       "      <td>2021-03-02 17:37:43</td>\n",
       "      <td>2021-03-02 17:47:00</td>\n",
       "      <td>дом</td>\n",
       "      <td>20</td>\n",
       "    </tr>\n",
       "    <tr>\n",
       "      <th>312</th>\n",
       "      <td>1</td>\n",
       "      <td>28903</td>\n",
       "      <td>2021-03-02 10:47:00</td>\n",
       "      <td>2021-03-02 09:02:00</td>\n",
       "      <td>0.711889</td>\n",
       "      <td>2021-03-02 10:47:20</td>\n",
       "      <td>2021-03-02 11:59:00</td>\n",
       "      <td>дача</td>\n",
       "      <td>20</td>\n",
       "    </tr>\n",
       "    <tr>\n",
       "      <th>313</th>\n",
       "      <td>1</td>\n",
       "      <td>28925</td>\n",
       "      <td>2021-03-01 07:34:20</td>\n",
       "      <td>2021-03-01 07:31:00</td>\n",
       "      <td>0.356140</td>\n",
       "      <td>2021-03-01 07:34:40</td>\n",
       "      <td>2021-03-01 07:55:00</td>\n",
       "      <td>дом</td>\n",
       "      <td>20</td>\n",
       "    </tr>\n",
       "    <tr>\n",
       "      <th>314</th>\n",
       "      <td>1</td>\n",
       "      <td>28929</td>\n",
       "      <td>2021-03-01 23:50:33</td>\n",
       "      <td>2021-03-01 22:46:00</td>\n",
       "      <td>0.266551</td>\n",
       "      <td>2021-03-01 23:50:53</td>\n",
       "      <td>2021-03-01 23:51:00</td>\n",
       "      <td>дом</td>\n",
       "      <td>20</td>\n",
       "    </tr>\n",
       "  </tbody>\n",
       "</table>\n",
       "</div>"
      ],
      "text/plain": [
       "     group_id  member_id       start_datetime calendar_start_date    weight  \\\n",
       "311         1      28903  2021-03-02 17:37:23 2021-03-02 17:30:00  0.711889   \n",
       "312         1      28903  2021-03-02 10:47:00 2021-03-02 09:02:00  0.711889   \n",
       "313         1      28925  2021-03-01 07:34:20 2021-03-01 07:31:00  0.356140   \n",
       "314         1      28929  2021-03-01 23:50:33 2021-03-01 22:46:00  0.266551   \n",
       "\n",
       "            end_datetime   calendar_end_date location_id  time  \n",
       "311  2021-03-02 17:37:43 2021-03-02 17:47:00         дом    20  \n",
       "312  2021-03-02 10:47:20 2021-03-02 11:59:00        дача    20  \n",
       "313  2021-03-01 07:34:40 2021-03-01 07:55:00         дом    20  \n",
       "314  2021-03-01 23:50:53 2021-03-01 23:51:00         дом    20  "
      ]
     },
     "execution_count": 7,
     "metadata": {},
     "output_type": "execute_result"
    }
   ],
   "source": [
    "result1.loc[311:314]"
   ]
  },
  {
   "cell_type": "code",
   "execution_count": 9,
   "metadata": {
    "scrolled": true
   },
   "outputs": [
    {
     "data": {
      "text/plain": [
       "<matplotlib.axes._subplots.AxesSubplot at 0x26146263248>"
      ]
     },
     "execution_count": 9,
     "metadata": {},
     "output_type": "execute_result"
    },
    {
     "data": {
      "image/png": "[encoded data removed]",
      "text/plain": [
       "<Figure size 432x288 with 1 Axes>"
      ]
     },
     "metadata": {
      "needs_background": "light"
     },
     "output_type": "display_data"
    }
   ],
   "source": [
    "result1.groupby('member_id').size().tail(20).plot(kind='bar')"
   ]
  },
  {
   "cell_type": "code",
   "execution_count": 11,
   "metadata": {},
   "outputs": [],
   "source": [
    "table = result1.groupby('member_id').size()\n",
    "table.to_excel('datas\\DAY.xlsx')"
   ]
  }
 ],
 "metadata": {
  "kernelspec": {
   "display_name": "Python 3",
   "language": "python",
   "name": "python3"
  },
  "language_info": {
   "codemirror_mode": {
    "name": "ipython",
    "version": 3
   },
   "file_extension": ".py",
   "mimetype": "text/x-python",
   "name": "python",
   "nbconvert_exporter": "python",
   "pygments_lexer": "ipython3",
   "version": "3.7.4"
  }
 },
 "nbformat": 4,
 "nbformat_minor": 2
}
